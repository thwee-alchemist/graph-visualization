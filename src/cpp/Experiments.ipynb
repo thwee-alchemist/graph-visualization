{
 "cells": [
  {
   "cell_type": "code",
   "execution_count": 1,
   "metadata": {},
   "outputs": [
    {
     "data": {
      "text/plain": []
     },
     "execution_count": 1,
     "metadata": {},
     "output_type": "execute_result"
    }
   ],
   "source": [
    "#pragma cling add_include_path(\"eigen\")\n",
    "#pragma cling add_library_path(\"eigen\")\n",
    "#pragma cling load(\"eigen/Eigen/Dense\")\n",
    "#include \"Settings.h\"\n",
    "#include \"Vertex.h\"\n",
    "#include \"Edge.h\"\n",
    "#include \"BarnesHutNode3.h\"\n",
    "#include \"LayoutGraph.h\"\n",
    "#include <iostream>\n",
    "#include <vector>\n",
    "using namespace std;"
   ]
  },
  {
   "cell_type": "code",
   "execution_count": 2,
   "metadata": {},
   "outputs": [
    {
     "data": {
      "text/plain": []
     },
     "execution_count": 2,
     "metadata": {},
     "output_type": "execute_result"
    }
   ],
   "source": [
    ".L fourd.so"
   ]
  },
  {
   "cell_type": "code",
   "execution_count": 3,
   "metadata": {},
   "outputs": [
    {
     "data": {
      "text/plain": []
     },
     "execution_count": 3,
     "metadata": {},
     "output_type": "execute_result"
    }
   ],
   "source": [
    "using namespace sc;\n",
    "\n",
    "typedef unsigned int Id;"
   ]
  },
  {
   "cell_type": "markdown",
   "metadata": {},
   "source": [
    "## Random Selection"
   ]
  },
  {
   "cell_type": "code",
   "execution_count": 4,
   "metadata": {},
   "outputs": [
    {
     "data": {
      "text/plain": []
     },
     "execution_count": 4,
     "metadata": {},
     "output_type": "execute_result"
    }
   ],
   "source": [
    "#include  <random>\n",
    "#include  <iterator>\n",
    "\n",
    "// https://stackoverflow.com/a/16421677/11169288\n",
    "template<typename Iter, typename RandomGenerator>\n",
    "Iter select_randomly(Iter start, Iter end, RandomGenerator& g) {\n",
    "    std::uniform_int_distribution<> dis(0, std::distance(start, end) - 1);\n",
    "    std::advance(start, dis(g));\n",
    "    return start;\n",
    "};\n",
    "\n",
    "template<typename Iter>\n",
    "Iter select_randomly(Iter start, Iter end) {\n",
    "    static std::random_device rd;\n",
    "    static std::mt19937 gen(rd());\n",
    "    return select_randomly(start, end, gen);\n",
    "};\n"
   ]
  },
  {
   "cell_type": "code",
   "execution_count": 5,
   "metadata": {},
   "outputs": [
    {
     "data": {
      "text/plain": []
     },
     "execution_count": 5,
     "metadata": {},
     "output_type": "execute_result"
    }
   ],
   "source": [
    "Settings* default_settings(){\n",
    "  double _repulsion = 1e3;\n",
    "  double _epsilon = 1e-4;\n",
    "  double _inner_distance = 9e6;\n",
    "  double _attraction = 4e-2;\n",
    "  double _friction = 8e-1;\n",
    "  double _gravity = 1e1;\n",
    "  double _time_dilation = 0.1;\n",
    "  \n",
    "\n",
    "  return new Settings(\n",
    "    _repulsion, \n",
    "    _epsilon, \n",
    "    _inner_distance,\n",
    "    _attraction,\n",
    "    _friction,\n",
    "    _gravity,\n",
    "    _time_dilation\n",
    "  );\n",
    "}\n",
    "\n",
    "Settings* settings = default_settings();\n",
    "LayoutGraph graph = LayoutGraph(settings, 0, NULL);\n",
    "\n",
    "vector<Id> vertices = vector<Id>();\n",
    "vector<Id> edges = vector<Id>();\n",
    "\n",
    "for(int i=0; i<100; i++){\n",
    "  Id vertex = graph.add_vertex();\n",
    "  vertices.push_back(vertex);\n",
    "}\n",
    "\n",
    "for(int i=0; i<100; i++){\n",
    "  Id source = *select_randomly(vertices.begin(), vertices.end());\n",
    "  Id target = *select_randomly(vertices.begin(), vertices.end());\n",
    "  Id edge = graph.add_edge(source, target, false, 1.0);\n",
    "  edges.push_back(edge);\n",
    "}\n"
   ]
  },
  {
   "cell_type": "code",
   "execution_count": 16,
   "metadata": {},
   "outputs": [
    {
     "data": {
      "text/plain": [
       "(std::string) \"[{\"id\":1\"x\":25715.6,\"y\":-81545.3,\"z\":23442.9},{\"id\":2\"x\":26777.6,\"y\":-62345.5,\"z\":18681.9},{\"id\":3\"x\":-37250.4,\"y\":-34016.5,\"z\":39802.9},{\"id\":4\"x\":-5861.26,\"y\":10571.5,\"z\":67370.6},{\"id\":5\"x\":-15434.4,\"y\":-22928.3,\"z\":57336.8},{\"id\":6\"x\":-4096.18,\"y\":47069.3,\"z\":-34474.4},{\"id\":7\"x\":33294,\"y\":59971.2,\"z\":-45781.6},{\"id\":8\"x\":-51157.5,\"y\":-4819.29,\"z\":56177.9},{\"id\":9\"x\":19008.3,\"y\":-60613.8,\"z\":5724.39},{\"id\":10\"x\":17837.3,\"y\":71529.2,\"z\":35799.3},{\"id\":11\"x\":14544.1,\"y\":49532.3,\"z\":-9371.13},{\"id\":12\"x\":-3504.33,\"y\":28634,\"z\":-30057.2},{\"id\":13\"x\":-29146,\"y\":31499.7,\"z\":-75542.6},{\"id\":14\"x\":103264,\"y\":15334.6,\"z\":33952.1},{\"id\":15\"x\":-48652.4,\"y\":32589.9,\"z\":-45766},{\"id\":16\"x\":-73844.1,\"y\":-54649.3,\"z\":-74514.6},{\"id\":17\"x\":-55833.5,\"y\":-38881,\"z\":-23403.8},{\"id\":18\"x\":-3294.63,\"y\":-69810.4,\"z\":-5733.21},{\"id\":19\"x\":32457.7,\"y\":-37395,\"z\":-102005},{\"id\":20\"x\":46445.4,\"y\":-6621.49,\"z\":19477.4},{\"id\":21\"x\":-23108.2,\"y\":51091.1,\"z\":3795.41},{\"id\":22\"x\":33781,\"y\":46127.6,\"z\":43692.5},{\"id\":23\"x\":-3841.58,\"y\":53686.3,\"z\":21741},{\"id\":24\"x\":-57103.5,\"y\":-19735.1,\"z\":-40194.4},{\"id\":25\"x\":-3853.41,\"y\":35879.1,\"z\":27118.1},{\"id\":26\"x\":39394.6,\"y\":-9191.6,\"z\":-68774.4},{\"id\":27\"x\":-654704,\"y\":1.41622e+06,\"z\":493752},{\"id\":28\"x\":21730.6,\"y\":-6566.71,\"z\":-38477.2},{\"id\":29\"x\":103869,\"y\":1424.63,\"z\":3199.48},{\"id\":30\"x\":-39945.6,\"y\":-39397.4,\"z\":-28945.8},{\"id\":31\"x\":32233.4,\"y\":-16330.6,\"z\":90616.4},{\"id\":32\"x\":63335.3,\"y\":77283,\"z\":50041.5},{\"id\":33\"x\":44332.7,\"y\":-36775.3,\"z\":34617.7},{\"id\":34\"x\":46780.2,\"y\":-83247,\"z\":9067.99},{\"id\":35\"x\":-37929,\"y\":42387.9,\"z\":12951.4},{\"id\":36\"x\":-38943.3,\"y\":-27078.5,\"z\":-49725.7},{\"id\":37\"x\":32365.3,\"y\":49037.1,\"z\":4093.17},{\"id\":38\"x\":-62948.8,\"y\":-54459.9,\"z\":28959.6},{\"id\":39\"x\":40844.8,\"y\":-43931.3,\"z\":-2493.39},{\"id\":40\"x\":-107950,\"y\":-5632.98,\"z\":-58527.8},{\"id\":41\"x\":49701.1,\"y\":-11171.5,\"z\":37664.5},{\"id\":42\"x\":-39801.2,\"y\":47072.6,\"z\":2672.22},{\"id\":43\"x\":25565.4,\"y\":989.157,\"z\":9746.83},{\"id\":44\"x\":-91654.1,\"y\":354.018,\"z\":32644.8},{\"id\":45\"x\":36697.2,\"y\":-18629.8,\"z\":1408.67},{\"id\":46\"x\":2442.24,\"y\":-48389.5,\"z\":44810.7},{\"id\":47\"x\":72556.2,\"y\":-42499.7,\"z\":-17177.6},{\"id\":48\"x\":24792.5,\"y\":23976.9,\"z\":62768.1},{\"id\":49\"x\":11193.3,\"y\":37871.4,\"z\":-39921.9},{\"id\":50\"x\":-42879,\"y\":5983.16,\"z\":-63781.3},{\"id\":51\"x\":-12774.5,\"y\":49985.7,\"z\":35272},{\"id\":52\"x\":19903.5,\"y\":-43067.5,\"z\":5415.45},{\"id\":53\"x\":-23418,\"y\":-29487.3,\"z\":-30168.1},{\"id\":54\"x\":-51353.5,\"y\":-10728.1,\"z\":-24702.9},{\"id\":55\"x\":25737.2,\"y\":-5320.8,\"z\":61604.1},{\"id\":56\"x\":-31115.3,\"y\":-47655.2,\"z\":8200.32},{\"id\":57\"x\":-32830.3,\"y\":56101.3,\"z\":-5189.13},{\"id\":58\"x\":55868.3,\"y\":57714,\"z\":-7557.97},{\"id\":59\"x\":-41658.8,\"y\":154759,\"z\":-445.009},{\"id\":60\"x\":14583.6,\"y\":-9749.85,\"z\":-30511.4},{\"id\":61\"x\":56497.2,\"y\":-3020.94,\"z\":-41381.8},{\"id\":62\"x\":-24253.6,\"y\":-60797.5,\"z\":-388.747},{\"id\":63\"x\":7527.43,\"y\":10655.6,\"z\":3642.51},{\"id\":64\"x\":-16648.4,\"y\":17848.8,\"z\":57627.5},{\"id\":65\"x\":38286.7,\"y\":44523.3,\"z\":-17592.7},{\"id\":66\"x\":64409.7,\"y\":-38513.6,\"z\":-5912.53},{\"id\":67\"x\":-26724.1,\"y\":-16735.6,\"z\":-11526.2},{\"id\":68\"x\":57135.2,\"y\":-35190.7,\"z\":21705.2},{\"id\":69\"x\":-16858.3,\"y\":24426.9,\"z\":-78067.6},{\"id\":70\"x\":66208,\"y\":-10548.4,\"z\":55469.2},{\"id\":71\"x\":-2878.09,\"y\":48853.8,\"z\":-37937.2},{\"id\":72\"x\":-17640.4,\"y\":44840.4,\"z\":-31176.5},{\"id\":73\"x\":-45382.6,\"y\":-13756.3,\"z\":18880.5},{\"id\":74\"x\":-82487.5,\"y\":11277.9,\"z\":-32261.6},{\"id\":75\"x\":-40440.8,\"y\":-31157.8,\"z\":-40772.6},{\"id\":76\"x\":31616.8,\"y\":-7996.89,\"z\":67750.8},{\"id\":77\"x\":12747.4,\"y\":-42353.1,\"z\":-44134.5},{\"id\":78\"x\":-1098.81,\"y\":48934.9,\"z\":-10257.4},{\"id\":79\"x\":-2079.56,\"y\":-63591.5,\"z\":-3754.75},{\"id\":80\"x\":-20513.8,\"y\":25253.2,\"z\":-32726.3},{\"id\":81\"x\":39105,\"y\":-44810.4,\"z\":-25467.8},{\"id\":82\"x\":-51325.1,\"y\":30400.8,\"z\":-5242.76},{\"id\":83\"x\":-57274.6,\"y\":46288.8,\"z\":-20793.1},{\"id\":84\"x\":12265.2,\"y\":6212.49,\"z\":54078.9},{\"id\":85\"x\":-406.766,\"y\":35241.7,\"z\":46342.5},{\"id\":86\"x\":614477,\"y\":-1.47567e+06,\"z\":-423298},{\"id\":87\"x\":97443.2,\"y\":-78567.4,\"z\":-13753.7},{\"id\":88\"x\":-39467.2,\"y\":28927.1,\"z\":56685.2},{\"id\":89\"x\":-54826.6,\"y\":18753.2,\"z\":56653},{\"id\":90\"x\":-55574.8,\"y\":-47118.7,\"z\":8012.56},{\"id\":91\"x\":-4613.79,\"y\":21515.5,\"z\":15901.1},{\"id\":92\"x\":20321.8,\"y\":-63837.9,\"z\":48187.1},{\"id\":93\"x\":-20023.8,\"y\":-14936.7,\"z\":-67394.7},{\"id\":94\"x\":-5882.02,\"y\":-66521.9,\"z\":13711.1},{\"id\":95\"x\":29256.4,\"y\":33598.2,\"z\":-48325.6},{\"id\":96\"x\":-18464.2,\"y\":67354.5,\"z\":71529.2},{\"id\":97\"x\":37390.4,\"y\":25369.8,\"z\":-1275.83},{\"id\":98\"x\":-12924,\"y\":57999.4,\"z\":1938.57},{\"id\":99\"x\":18487.6,\"y\":24287,\"z\":-33704.7},{\"id\":100\"x\":23456.2,\"y\":-29446.5,\"z\":-101346}]\"\n"
      ]
     },
     "execution_count": 16,
     "metadata": {},
     "output_type": "execute_result"
    }
   ],
   "source": []
  },
  {
   "cell_type": "code",
   "execution_count": 8,
   "metadata": {},
   "outputs": [
    {
     "name": "stderr",
     "output_type": "stream",
     "text": [
      "\u001b[1minput_line_12:2:20: \u001b[0m\u001b[0;1;31merror: \u001b[0m\u001b[1mtoo few arguments to function call, expected 1, have 0\u001b[0m\n",
      " graph.remove_edge()\n",
      "\u001b[0;1;32m ~~~~~~~~~~~~~~~~~ ^\n",
      "\u001b[0m\u001b[1m./LayoutGraph.h:39:7: \u001b[0m\u001b[0;1;30mnote: \u001b[0m'remove_edge' declared here\u001b[0m\n",
      "      bool remove_edge(unsigned int);\n",
      "\u001b[0;1;32m      ^\n",
      "\u001b[0m"
     ]
    },
    {
     "ename": "ename",
     "evalue": "evalue",
     "output_type": "error",
     "traceback": []
    }
   ],
   "source": [
    "graph.remove_edge()"
   ]
  },
  {
   "cell_type": "code",
   "execution_count": 6,
   "metadata": {},
   "outputs": [
    {
     "name": "stdout",
     "output_type": "stream",
     "text": [
      "destroying Vertex-0\n",
      "Vertex-0 destroyed\n"
     ]
    },
    {
     "data": {
      "text/plain": [
       "(void) nullptr\n"
      ]
     },
     "execution_count": 6,
     "metadata": {},
     "output_type": "execute_result"
    }
   ],
   "source": [
    "delete v1;"
   ]
  },
  {
   "cell_type": "code",
   "execution_count": 7,
   "metadata": {},
   "outputs": [
    {
     "data": {
      "text/plain": []
     },
     "execution_count": 7,
     "metadata": {},
     "output_type": "execute_result"
    }
   ],
   "source": [
    "typedef unsigned int Id;"
   ]
  },
  {
   "cell_type": "code",
   "execution_count": 6,
   "metadata": {},
   "outputs": [
    {
     "data": {
      "text/plain": []
     },
     "execution_count": 6,
     "metadata": {},
     "output_type": "execute_result"
    }
   ],
   "source": [
    "Vertex* v = new Vertex(0)"
   ]
  },
  {
   "cell_type": "code",
   "execution_count": 7,
   "metadata": {},
   "outputs": [
    {
     "name": "stdout",
     "output_type": "stream",
     "text": [
      "0x7f1e0d498230\n"
     ]
    },
    {
     "data": {
      "text/plain": [
       "(void) @0x7f1e267fac68\n"
      ]
     },
     "execution_count": 7,
     "metadata": {},
     "output_type": "execute_result"
    }
   ],
   "source": [
    "cout << v << endl;\n",
    "delete v;"
   ]
  },
  {
   "cell_type": "code",
   "execution_count": 8,
   "metadata": {},
   "outputs": [
    {
     "name": "stderr",
     "output_type": "stream",
     "text": [
      "\u001b[1minput_line_11:6:1: \u001b[0m\u001b[0;1;31merror: \u001b[0m\u001b[1muse of undeclared identifier 'v1'\u001b[0m\n",
      "v1->edges\n",
      "\u001b[0;1;32m^\n",
      "\u001b[0m"
     ]
    },
    {
     "ename": "ename",
     "evalue": "evalue",
     "output_type": "error",
     "traceback": []
    }
   ],
   "source": [
    "Vertex* __v1 = new Vertex(0);\n",
    "Vertex* __v2 = new Vertex(1);\n",
    "Edge* __e1 = new Edge(0, __v1, __v2, false, 1.0);\n",
    "\n",
    "v1->edges"
   ]
  },
  {
   "cell_type": "code",
   "execution_count": 8,
   "metadata": {},
   "outputs": [
    {
     "data": {
      "text/plain": [
       "(void) nullptr\n"
      ]
     },
     "execution_count": 8,
     "metadata": {},
     "output_type": "execute_result"
    }
   ],
   "source": [
    "delete e1;"
   ]
  },
  {
   "cell_type": "code",
   "execution_count": 9,
   "metadata": {},
   "outputs": [
    {
     "data": {
      "text/plain": [
       "(std::set<sc::Edge *> &) {}\n"
      ]
     },
     "execution_count": 9,
     "metadata": {},
     "output_type": "execute_result"
    }
   ],
   "source": [
    "v1->edges"
   ]
  },
  {
   "cell_type": "code",
   "execution_count": 10,
   "metadata": {},
   "outputs": [
    {
     "data": {
      "text/plain": []
     },
     "execution_count": 10,
     "metadata": {},
     "output_type": "execute_result"
    }
   ],
   "source": [
    "Settings* default_settings(){\n",
    "  float _repulsion = 1e3;\n",
    "  float _epsilon = 1e-4;\n",
    "  float _inner_distance = 9e6;\n",
    "  float _attraction = 4e-2;\n",
    "  float _friction = 8e-1;\n",
    "  float _gravity = 1e1;\n",
    "  float _time_dilation = 0.1;\n",
    "\n",
    "  return new Settings(\n",
    "    _repulsion, \n",
    "    _epsilon, \n",
    "    _inner_distance,\n",
    "    _attraction,\n",
    "    _friction,\n",
    "    _gravity,\n",
    "    _time_dilation\n",
    "  );\n",
    "}\n"
   ]
  },
  {
   "cell_type": "code",
   "execution_count": 11,
   "metadata": {},
   "outputs": [
    {
     "data": {
      "text/plain": []
     },
     "execution_count": 11,
     "metadata": {},
     "output_type": "execute_result"
    }
   ],
   "source": [
    "Settings* settings = default_settings()"
   ]
  },
  {
   "cell_type": "code",
   "execution_count": 12,
   "metadata": {},
   "outputs": [
    {
     "name": "stdout",
     "output_type": "stream",
     "text": [
      "LayoutGraph::LayoutGraph(settings, 1, finer)\n",
      "LayoutGraph::LayoutGraph(settings, 0, finer)\n"
     ]
    },
    {
     "data": {
      "text/plain": []
     },
     "execution_count": 12,
     "metadata": {},
     "output_type": "execute_result"
    }
   ],
   "source": [
    "LayoutGraph graph = LayoutGraph(settings, 1, NULL);"
   ]
  },
  {
   "cell_type": "code",
   "execution_count": 13,
   "metadata": {},
   "outputs": [
    {
     "name": "stdout",
     "output_type": "stream",
     "text": [
      "LayoutGraph-1::add_vertex\n",
      "Vertex::Vertex(1)\n",
      "LayoutGraph::add_vertex(): Vertex(1) created\n",
      "LayoutGraph-1::add_vertex\n",
      "Vertex::Vertex(2)\n",
      "LayoutGraph::add_vertex(): Vertex(2) created\n",
      "LayoutGraph-1::add_edge(1, 2)\n",
      "Edge(1)\n",
      "LayoutGraph-1::add_edge(...):edge created\n",
      "LayoutGraph-0::add_vertex\n",
      "Vertex::Vertex(1)\n",
      "LayoutGraph::add_vertex(): Vertex(1) created\n",
      "LayoutGraph-0::add_vertex\n",
      "Vertex::Vertex(2)\n",
      "LayoutGraph::add_vertex(): Vertex(2) created\n",
      "LayoutGraph-0::add_set_vertex(...):\n",
      "Vertex::Vertex(3)\n"
     ]
    },
    {
     "data": {
      "text/plain": []
     },
     "execution_count": 13,
     "metadata": {},
     "output_type": "execute_result"
    }
   ],
   "source": [
    "Id _v1 = graph.add_vertex();\n",
    "Id _v2 = graph.add_vertex();\n",
    "Id _e1 = graph.add_edge(_v1, _v2, false, 1.0)"
   ]
  },
  {
   "cell_type": "code",
   "execution_count": null,
   "metadata": {},
   "outputs": [],
   "source": [
    "graph.remove_edge(_e1)"
   ]
  },
  {
   "cell_type": "markdown",
   "metadata": {},
   "source": [
    "## Transpose math..."
   ]
  },
  {
   "cell_type": "code",
   "execution_count": 4,
   "metadata": {},
   "outputs": [
    {
     "name": "stdout",
     "output_type": "stream",
     "text": [
      " -0.444451   0.257742   0.904459\n",
      "   0.10794  -0.270431    0.83239\n",
      "-0.0452059  0.0268018   0.271423\n"
     ]
    },
    {
     "data": {
      "text/plain": [
       "(Eigen::Matrix<double, -1, -1, 0, -1, -1> &) @0x7f32929e0058\n"
      ]
     },
     "execution_count": 4,
     "metadata": {},
     "output_type": "execute_result"
    }
   ],
   "source": [
    "Eigen::MatrixXd m1 = Eigen::MatrixXd(3, 3);\n",
    "m1.setRandom();\n",
    "cout << m1 << endl;\n",
    "\n",
    "Eigen::MatrixXd m2 = Eigen::MatrixXd(1, 3);\n",
    "m2.setRandom();\n",
    "\n",
    "Eigen::MatrixXd m3 = Eigen::MatrixXd(1, 3);\n",
    "m3.setRandom()"
   ]
  },
  {
   "cell_type": "markdown",
   "metadata": {},
   "source": [
    "for later..."
   ]
  },
  {
   "cell_type": "code",
   "execution_count": 5,
   "metadata": {},
   "outputs": [
    {
     "name": "stdout",
     "output_type": "stream",
     "text": [
      "m2:  0.434594 -0.716795  0.213938\n",
      "\n",
      "m3: -0.967399 -0.514226 -0.725537\n",
      "\n"
     ]
    },
    {
     "data": {
      "text/plain": [
       "(std::basic_ostream<char, std::char_traits<char> >::__ostream_type &) @0x7f3290c623c0\n"
      ]
     },
     "execution_count": 5,
     "metadata": {},
     "output_type": "execute_result"
    }
   ],
   "source": [
    "cout << \"m2: \" << m2 << endl << endl;\n",
    "cout << \"m3: \" << m3 << endl << endl;"
   ]
  },
  {
   "cell_type": "code",
   "execution_count": 6,
   "metadata": {},
   "outputs": [
    {
     "name": "stdout",
     "output_type": "stream",
     "text": [
      "-0.420426  -0.22348 -0.315314\n",
      " 0.693427  0.368595  0.520061\n",
      "-0.206963 -0.110012  -0.15522"
     ]
    },
    {
     "data": {
      "text/plain": [
       "(std::ostream &) @0x7f3290c623c0\n"
      ]
     },
     "execution_count": 6,
     "metadata": {},
     "output_type": "execute_result"
    }
   ],
   "source": [
    "Eigen::MatrixXd m4 = (m2.transpose() * m3);\n",
    "cout << m4;"
   ]
  },
  {
   "cell_type": "code",
   "execution_count": 7,
   "metadata": {},
   "outputs": [
    {
     "name": "stdout",
     "output_type": "stream",
     "text": [
      " 0.608354 -0.686642 -0.198111"
     ]
    },
    {
     "data": {
      "text/plain": [
       "(std::ostream &) @0x7f3290c623c0\n"
      ]
     },
     "execution_count": 7,
     "metadata": {},
     "output_type": "execute_result"
    }
   ],
   "source": [
    "Eigen::MatrixXd m5 = Eigen::MatrixXd(1, 3);\n",
    "m5.setRandom();\n",
    "cout << m5;"
   ]
  },
  {
   "cell_type": "code",
   "execution_count": 8,
   "metadata": {},
   "outputs": [
    {
     "name": "stdout",
     "output_type": "stream",
     "text": [
      "m5:  0.608354 -0.686642 -0.198111\n",
      "\n",
      "m4: -0.420426  -0.22348 -0.315314\n",
      " 0.693427  0.368595  0.520061\n",
      "-0.206963 -0.110012  -0.15522\n",
      "\n",
      "m6: -0.690901 -0.367253 -0.518167\n"
     ]
    },
    {
     "data": {
      "text/plain": [
       "(std::basic_ostream<char, std::char_traits<char> >::__ostream_type &) @0x7f3290c623c0\n"
      ]
     },
     "execution_count": 8,
     "metadata": {},
     "output_type": "execute_result"
    }
   ],
   "source": [
    "cout << \"m5: \" << m5 << endl << endl;\n",
    "cout << \"m4: \" << m4 << endl << endl;\n",
    "\n",
    "Eigen::MatrixXd m6 = m5 * m4;\n",
    "\n",
    "cout << \"m5 * m4 \" << m6 << endl;"
   ]
  },
  {
   "cell_type": "code",
   "execution_count": 9,
   "metadata": {},
   "outputs": [
    {
     "name": "stdout",
     "output_type": "stream",
     "text": [
      "-0.690901 -0.367253 -0.518167"
     ]
    },
    {
     "data": {
      "text/plain": [
       "(std::ostream &) @0x7f3290c623c0\n"
      ]
     },
     "execution_count": 9,
     "metadata": {},
     "output_type": "execute_result"
    }
   ],
   "source": [
    "cout << m6 "
   ]
  },
  {
   "cell_type": "markdown",
   "metadata": {},
   "source": [
    "## Figuring out the remove_vertex/edge functions..."
   ]
  },
  {
   "cell_type": "code",
   "execution_count": 5,
   "metadata": {},
   "outputs": [
    {
     "name": "stdout",
     "output_type": "stream",
     "text": [
      "LayoutGraph::LayoutGraph(settings, 1, finer)\n",
      "LayoutGraph::LayoutGraph(settings, 0, finer)\n"
     ]
    },
    {
     "data": {
      "text/plain": []
     },
     "execution_count": 5,
     "metadata": {},
     "output_type": "execute_result"
    }
   ],
   "source": [
    "LayoutGraph graph = LayoutGraph(default_settings(), 1, NULL);"
   ]
  },
  {
   "cell_type": "code",
   "execution_count": null,
   "metadata": {},
   "outputs": [],
   "source": [
    "#include <iostream>\n",
    "#include <exception>\n",
    "using namespace std;\n",
    "\n",
    "typedef unsigned int Id;\n",
    "\n",
    "try{\n",
    "  Id v1 = graph.add_vertex();\n",
    "  Id v2 = graph.add_vertex();\n",
    "  Id e1 = graph.add_edge(v1, v2, false, 1.0);\n",
    "  cout << graph.layout() << endl;\n",
    "}catch(exception& e){\n",
    "  cout << e.what() << endl;\n",
    "}"
   ]
  },
  {
   "cell_type": "code",
   "execution_count": null,
   "metadata": {},
   "outputs": [],
   "source": []
  },
  {
   "cell_type": "code",
   "execution_count": 9,
   "metadata": {},
   "outputs": [
    {
     "name": "stderr",
     "output_type": "stream",
     "text": [
      "\u001b[1minput_line_11:2:11: \u001b[0m\u001b[0;1;31merror: \u001b[0m\u001b[1mno template named 'map'; did you mean 'std::map'?\u001b[0m\n",
      " auto m = map<int, Vertex*>();\n",
      "\u001b[0;1;32m          ^~~\n",
      "\u001b[0m\u001b[0;32m          std::map\n",
      "\u001b[0m\u001b[1m/../lib/gcc/x86_64-linux-gnu/8/../../../../include/c++/8/bits/stl_multimap.h:70:11: \u001b[0m\u001b[0;1;30mnote: \u001b[0m'std::map' declared here\u001b[0m\n",
      "    class map;\n",
      "\u001b[0;1;32m          ^\n",
      "\u001b[0m"
     ]
    },
    {
     "ename": "ename",
     "evalue": "evalue",
     "output_type": "error",
     "traceback": []
    }
   ],
   "source": [
    "#include <map>\n",
    "auto m = map<int, Vertex*>();"
   ]
  },
  {
   "cell_type": "code",
   "execution_count": null,
   "metadata": {},
   "outputs": [],
   "source": []
  }
 ],
 "metadata": {
  "kernelspec": {
   "display_name": "C++11",
   "language": "C++",
   "name": "cling-cpp11"
  },
  "language_info": {
   "codemirror_mode": "c++",
   "file_extension": ".c++",
   "mimetype": "text/x-c++src",
   "name": "c++"
  }
 },
 "nbformat": 4,
 "nbformat_minor": 4
}
