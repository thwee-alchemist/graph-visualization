{
 "cells": [
  {
   "cell_type": "markdown",
   "metadata": {},
   "source": [
    "# Building FourD"
   ]
  },
  {
   "cell_type": "code",
   "execution_count": 7,
   "metadata": {},
   "outputs": [
    {
     "name": "stdout",
     "output_type": "stream",
     "text": [
      "clang++ -std=c++11 -shared -fpic -I eigen  Settings.cpp -o build/Settings.so\n",
      "clang++ -std=c++11 -shared -fpic -I eigen  Vertex.cpp -o build/Vertex.so\n",
      "clang++ -std=c++11 -shared -fpic -I eigen  Edge.cpp -o build/Edge.so\n",
      "clang++ -std=c++11 -shared -fpic -I eigen  BarnesHutNode3.cpp -o build/BarnesHutNode3.so\n",
      "clang++ -std=c++11 -shared -fpic -I eigen  LayoutGraph.cpp -o build/LayoutGraph.so\n"
     ]
    }
   ],
   "source": [
    "make dm"
   ]
  },
  {
   "cell_type": "code",
   "execution_count": null,
   "metadata": {},
   "outputs": [],
   "source": []
  }
 ],
 "metadata": {
  "kernelspec": {
   "display_name": "Bash",
   "language": "bash",
   "name": "bash"
  },
  "language_info": {
   "codemirror_mode": "shell",
   "file_extension": ".sh",
   "mimetype": "text/x-sh",
   "name": "bash"
  }
 },
 "nbformat": 4,
 "nbformat_minor": 4
}
